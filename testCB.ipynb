{
 "cells": [
  {
   "cell_type": "code",
   "execution_count": null,
   "metadata": {},
   "outputs": [
    {
     "name": "stdout",
     "output_type": "stream",
     "text": [
      "[youtube] Extracting URL: https://www.youtube.com/watch?v=pRpeEdMmmQ0\n",
      "[youtube] pRpeEdMmmQ0: Downloading webpage\n",
      "[youtube] pRpeEdMmmQ0: Downloading ios player API JSON\n",
      "[youtube] pRpeEdMmmQ0: Downloading mweb player API JSON\n",
      "[youtube] pRpeEdMmmQ0: Downloading player 6ba8ddc3\n"
     ]
    },
    {
     "name": "stderr",
     "output_type": "stream",
     "text": [
      "WARNING: [youtube] pRpeEdMmmQ0: Signature extraction failed: Some formats may be missing\n"
     ]
    },
    {
     "name": "stdout",
     "output_type": "stream",
     "text": [
      "[youtube] pRpeEdMmmQ0: Downloading m3u8 information\n",
      "[info] pRpeEdMmmQ0: Downloading 1 format(s): 616+234\n",
      "[hlsnative] Downloading m3u8 manifest\n",
      "[hlsnative] Total fragments: 42\n",
      "[download] Destination: downloaded_video.f616.mp4\n",
      "[download] 100% of  125.70MiB in 00:00:08 at 14.93MiB/s                 \n",
      "[hlsnative] Downloading m3u8 manifest\n",
      "[hlsnative] Total fragments: 42\n",
      "[download] Destination: downloaded_video.f234.mp4\n",
      "[download] 100% of    3.28MiB in 00:00:01 at 2.32MiB/s                   \n",
      "[Merger] Merging formats into \"downloaded_video.mp4\"\n",
      "Deleting original file downloaded_video.f616.mp4 (pass -k to keep)\n",
      "Deleting original file downloaded_video.f234.mp4 (pass -k to keep)\n",
      "[VideoConvertor] Not converting media file \"downloaded_video.mp4\"; already is in target format mp4\n",
      "MoviePy - Writing audio in extracted_audio.wav\n"
     ]
    },
    {
     "name": "stderr",
     "output_type": "stream",
     "text": [
      "                                                                      \r"
     ]
    },
    {
     "name": "stdout",
     "output_type": "stream",
     "text": [
      "MoviePy - Done.\n",
      "New audio file saved as: output_speed_changed.wav\n"
     ]
    }
   ],
   "source": [
    "from moviepy import VideoFileClip\n",
    "import yt_dlp\n",
    "import librosa\n",
    "import soundfile as sf\n",
    "import os\n",
    "\n",
    "# --- Clean up old files ---\n",
    "for f in [\"downloaded_video.mp4\", \"extracted_audio.wav\", \"output_speed_changed.wav\"]:\n",
    "    if os.path.exists(f):\n",
    "        os.remove(f)\n",
    "\n",
    "# --- Download video with merged audio ---\n",
    "def download_video(url, output_path=\"downloaded_video.mp4\"):\n",
    "    ydl_opts = {\n",
    "        'format': 'bestvideo+bestaudio/best',\n",
    "        'outtmpl': output_path,\n",
    "        'cachedir': False,\n",
    "        'merge_output_format': 'mp4',\n",
    "        'postprocessors': [{\n",
    "            'key': 'FFmpegVideoConvertor',\n",
    "            'preferedformat': 'mp4'\n",
    "        }]\n",
    "    }\n",
    "\n",
    "    with yt_dlp.YoutubeDL(ydl_opts) as ydl:\n",
    "        ydl.download([url])\n",
    "\n",
    "# --- Extract audio from the downloaded video ---\n",
    "def extract_audio(video_path=\"downloaded_video.mp4\", audio_path=\"extracted_audio.wav\"):\n",
    "    video = VideoFileClip(video_path)\n",
    "    audio = video.audio\n",
    "    audio.write_audiofile(audio_path)\n",
    "\n",
    "# --- Main Execution ---\n",
    "url = \"https://www.youtube.com/watch?v=pRpeEdMmmQ0\"  # Replace with any YouTube URL\n",
    "download_video(url)\n",
    "extract_audio(\"downloaded_video.mp4\", \"extracted_audio.wav\")\n",
    "\n",
    "# --- Change speed of the extracted audio ---\n",
    "y, sr = librosa.load(\"extracted_audio.wav\", sr=None)\n",
    "speed_factor = 1.5  # >1.0 = faster, <1.0 = slower\n",
    "y_stretched = librosa.effects.time_stretch(y, rate=speed_factor)\n",
    "sf.write(\"output_speed_changed.wav\", y_stretched, sr)\n",
    "\n",
    "print(\"New audio file saved as: output_speed_changed.wav\")\n",
    "#make a change "
   ]
  }
 ],
 "metadata": {
  "kernelspec": {
   "display_name": "py311",
   "language": "python",
   "name": "python3"
  },
  "language_info": {
   "codemirror_mode": {
    "name": "ipython",
    "version": 3
   },
   "file_extension": ".py",
   "mimetype": "text/x-python",
   "name": "python",
   "nbconvert_exporter": "python",
   "pygments_lexer": "ipython3",
   "version": "3.11.9"
  }
 },
 "nbformat": 4,
 "nbformat_minor": 2
}
