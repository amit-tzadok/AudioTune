{
 "cells": [
  {
   "cell_type": "code",
   "execution_count": null,
   "metadata": {},
   "outputs": [
    {
     "name": "stdout",
     "output_type": "stream",
     "text": [
      "[youtube] Extracting URL: https://www.youtube.com/watch?v=pRpeEdMmmQ0\n",
      "[youtube] pRpeEdMmmQ0: Downloading webpage\n",
      "[youtube] pRpeEdMmmQ0: Downloading ios player API JSON\n",
      "[youtube] pRpeEdMmmQ0: Downloading mweb player API JSON\n",
      "[youtube] pRpeEdMmmQ0: Downloading player 6ba8ddc3\n"
     ]
    },
    {
     "name": "stderr",
     "output_type": "stream",
     "text": [
      "WARNING: [youtube] pRpeEdMmmQ0: Signature extraction failed: Some formats may be missing\n"
     ]
    },
    {
     "name": "stdout",
     "output_type": "stream",
     "text": [
      "[youtube] pRpeEdMmmQ0: Downloading m3u8 information\n",
      "[info] pRpeEdMmmQ0: Downloading 1 format(s): 616+234\n",
      "[hlsnative] Downloading m3u8 manifest\n",
      "[hlsnative] Total fragments: 42\n",
      "[download] Destination: downloaded_video.f616.mp4\n",
      "[download] 100% of  125.70MiB in 00:00:08 at 14.93MiB/s                 \n",
      "[hlsnative] Downloading m3u8 manifest\n",
      "[hlsnative] Total fragments: 42\n",
      "[download] Destination: downloaded_video.f234.mp4\n",
      "[download] 100% of    3.28MiB in 00:00:01 at 2.32MiB/s                   \n",
      "[Merger] Merging formats into \"downloaded_video.mp4\"\n",
      "Deleting original file downloaded_video.f616.mp4 (pass -k to keep)\n",
      "Deleting original file downloaded_video.f234.mp4 (pass -k to keep)\n",
      "[VideoConvertor] Not converting media file \"downloaded_video.mp4\"; already is in target format mp4\n",
      "MoviePy - Writing audio in extracted_audio.wav\n"
     ]
    },
    {
     "name": "stderr",
     "output_type": "stream",
     "text": [
      "                                                                      \r"
     ]
    },
    {
     "name": "stdout",
     "output_type": "stream",
     "text": [
      "MoviePy - Done.\n",
      "New audio file saved as: output_speed_changed.wav\n"
     ]
    }
   ],
   "source": [
    "from moviepy import VideoFileClip\n",
    "import yt_dlp\n",
    "import librosa\n",
    "import soundfile as sf\n",
    "import os\n",
    "\n",
    "# --- Clean up old files ---\n",
    "for f in [\"downloaded_video.mp4\", \"extracted_audio.wav\", \"output_speed_changed.wav\"]:\n",
    "    if os.path.exists(f):\n",
    "        os.remove(f)\n",
    "\n",
    "# --- Download video with merged audio ---\n",
    "def download_video(url, output_path=\"downloaded_video.mp4\"):\n",
    "    ydl_opts = {\n",
    "        'format': 'bestvideo+bestaudio/best',\n",
    "        'outtmpl': output_path,\n",
    "        'cachedir': False,\n",
    "        'merge_output_format': 'mp4',\n",
    "        'postprocessors': [{\n",
    "            'key': 'FFmpegVideoConvertor',\n",
    "            'preferedformat': 'mp4'\n",
    "        }]\n",
    "    }\n",
    "\n",
    "    with yt_dlp.YoutubeDL(ydl_opts) as ydl:\n",
    "        ydl.download([url])\n",
    "\n",
    "# --- Extract audio from the downloaded video ---\n",
    "def extract_audio(video_path=\"downloaded_video.mp4\", audio_path=\"extracted_audio.wav\"):\n",
    "    video = VideoFileClip(video_path)\n",
    "    audio = video.audio\n",
    "    audio.write_audiofile(audio_path)\n",
    "\n",
    "# --- Main Execution ---\n",
    "url = \"https://www.youtube.com/watch?v=pRpeEdMmmQ0\"  # Replace with any YouTube URL\n",
    "download_video(url)\n",
    "extract_audio(\"downloaded_video.mp4\", \"extracted_audio.wav\")\n",
    "\n",
    "# --- Change speed of the extracted audio ---\n",
    "y, sr = librosa.load(\"extracted_audio.wav\", sr=None)\n",
    "speed_factor = 1.5  # >1.0 = faster, <1.0 = slower\n",
    "y_stretched = librosa.effects.time_stretch(y, rate=speed_factor)\n",
    "sf.write(\"output_speed_changed.wav\", y_stretched, sr)\n",
    "\n",
    "print(\"New audio file saved as: output_speed_changed.wav\")\n",
    "#make a change "
   ]
  },
  {
   "cell_type": "code",
   "execution_count": 7,
   "metadata": {},
   "outputs": [
    {
     "name": "stdout",
     "output_type": "stream",
     "text": [
      "[youtube] Extracting URL: https://www.youtube.com/watch?v=G7RgN9ijwE4\n",
      "[youtube] G7RgN9ijwE4: Downloading webpage\n",
      "[youtube] G7RgN9ijwE4: Downloading tv client config\n",
      "[youtube] G7RgN9ijwE4: Downloading player 612f74a3-main\n",
      "[youtube] G7RgN9ijwE4: Downloading tv player API JSON\n",
      "[youtube] G7RgN9ijwE4: Downloading ios player API JSON\n",
      "[youtube] G7RgN9ijwE4: Downloading m3u8 information\n",
      "[info] G7RgN9ijwE4: Downloading 1 format(s): 396+251\n",
      "[download] Destination: /Users/amitt/Downloads/downloaded_video.f396.mp4\n",
      "[download] 100% of  117.94KiB in 00:00:00 at 979.03KiB/s \n",
      "[download] Destination: /Users/amitt/Downloads/downloaded_video.f251.webm\n",
      "[download] 100% of  343.20KiB in 00:00:00 at 1.47MiB/s   \n",
      "[Merger] Merging formats into \"/Users/amitt/Downloads/downloaded_video.mp4\"\n",
      "Deleting original file /Users/amitt/Downloads/downloaded_video.f396.mp4 (pass -k to keep)\n",
      "Deleting original file /Users/amitt/Downloads/downloaded_video.f251.webm (pass -k to keep)\n",
      "[VideoConvertor] Not converting media file \"/Users/amitt/Downloads/downloaded_video.mp4\"; already is in target format mp4\n",
      "MoviePy - Writing audio in /Users/amitt/Downloads/extracted_audio.wav\n"
     ]
    },
    {
     "name": "stderr",
     "output_type": "stream",
     "text": [
      "                                                                    "
     ]
    },
    {
     "name": "stdout",
     "output_type": "stream",
     "text": [
      "MoviePy - Done.\n"
     ]
    },
    {
     "name": "stderr",
     "output_type": "stream",
     "text": [
      "\r"
     ]
    }
   ],
   "source": [
    "from moviepy import VideoFileClip\n",
    "import yt_dlp\n",
    "import librosa\n",
    "import soundfile as sf\n",
    "import os\n",
    "import platform\n",
    "\n",
    "# --- Determine Downloads folder path ---\n",
    "if platform.system() == \"Windows\":\n",
    "    downloads_dir = os.path.join(os.environ[\"USERPROFILE\"], \"Downloads\")\n",
    "else:\n",
    "    downloads_dir = os.path.expanduser(\"~/Downloads\")\n",
    "\n",
    "# File paths\n",
    "video_path = os.path.join(downloads_dir, \"downloaded_video.mp4\")\n",
    "audio_path = os.path.join(downloads_dir, \"extracted_audio.wav\")\n",
    "output_audio_path = os.path.join(downloads_dir, \"output_speed_changed.wav\")\n",
    "\n",
    "# --- Clean up old files ---\n",
    "for f in [video_path, audio_path, output_audio_path]:\n",
    "    if os.path.exists(f):\n",
    "        os.remove(f)\n",
    "\n",
    "# --- Download video with merged audio ---\n",
    "def download_video(url, output_path):\n",
    "    ydl_opts = {\n",
    "        'format': 'bestvideo+bestaudio/best',\n",
    "        'outtmpl': output_path,\n",
    "        'cachedir': False,\n",
    "        'merge_output_format': 'mp4',\n",
    "        'postprocessors': [{\n",
    "            'key': 'FFmpegVideoConvertor',\n",
    "            'preferedformat': 'mp4'\n",
    "        }]\n",
    "    }\n",
    "\n",
    "    with yt_dlp.YoutubeDL(ydl_opts) as ydl:\n",
    "        ydl.download([url])\n",
    "\n",
    "# --- Extract audio from video ---\n",
    "def extract_audio(video_path, audio_path):\n",
    "    video = VideoFileClip(video_path)\n",
    "    audio = video.audio\n",
    "    audio.write_audiofile(audio_path)\n",
    "\n",
    "# --- Main Execution ---\n",
    "url = \"https://www.youtube.com/watch?v=G7RgN9ijwE4\"  # Replace with your desired URL\n",
    "download_video(url, video_path)\n",
    "extract_audio(video_path, audio_path)\n",
    "\n",
    "# # --- Change speed of the extracted audio ---\n",
    "# y, sr = librosa.load(audio_path, sr=None)\n",
    "# speed_factor = 1.5  # >1.0 = faster, <1.0 = slower\n",
    "# y_stretched = librosa.effects.time_stretch(y, rate=speed_factor)\n",
    "# sf.write(output_audio_path, y_stretched, sr)\n"
   ]
  },
  {
   "cell_type": "markdown",
   "metadata": {},
   "source": [
    "# Audio to Text"
   ]
  },
  {
   "cell_type": "code",
   "execution_count": 8,
   "metadata": {},
   "outputs": [
    {
     "name": "stdout",
     "output_type": "stream",
     "text": [
      "Transcribed text: have you ever had a dream that that you you had you you can you do you want you you can do so you you can you you want you want him to do you so much you could do anything\n"
     ]
    }
   ],
   "source": [
    "import speech_recognition as sr\n",
    "from pydub import AudioSegment\n",
    "\n",
    "# Convert stereo or high-sample-rate audio to mono 16kHz for better results\n",
    "def preprocess_audio(input_path, output_path):\n",
    "    audio = AudioSegment.from_wav(input_path)\n",
    "    audio = audio.set_channels(1).set_frame_rate(16000)\n",
    "    audio.export(output_path, format=\"wav\")\n",
    "\n",
    "def audio_to_text(wav_path):\n",
    "    r = sr.Recognizer()\n",
    "    with sr.AudioFile(wav_path) as source:\n",
    "        audio = r.record(source)\n",
    "    try:\n",
    "        return r.recognize_google(audio)\n",
    "    except sr.UnknownValueError:\n",
    "        return \"Unintelligible audio\"\n",
    "    except sr.RequestError as e:\n",
    "        return f\"API Error: {e}\"\n",
    "\n",
    "# Paths\n",
    "input_wav = \"/Users/amitt/Downloads/extracted_audio.wav\"  # Replace with correct path\n",
    "processed_wav = \"/Users/amitt/Downloads/processed_audio.wav\"\n",
    "\n",
    "# Run\n",
    "preprocess_audio(input_wav, processed_wav)\n",
    "text = audio_to_text(processed_wav)\n",
    "print(\"Transcribed text:\", text)\n"
   ]
  }
 ],
 "metadata": {
  "kernelspec": {
   "display_name": "py311",
   "language": "python",
   "name": "python3"
  },
  "language_info": {
   "codemirror_mode": {
    "name": "ipython",
    "version": 3
   },
   "file_extension": ".py",
   "mimetype": "text/x-python",
   "name": "python",
   "nbconvert_exporter": "python",
   "pygments_lexer": "ipython3",
   "version": "3.11.9"
  }
 },
 "nbformat": 4,
 "nbformat_minor": 2
}
